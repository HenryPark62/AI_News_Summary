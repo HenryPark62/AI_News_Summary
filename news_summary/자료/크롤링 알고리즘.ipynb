{
 "cells": [
  {
   "cell_type": "code",
   "execution_count": 1,
   "metadata": {},
   "outputs": [
    {
     "name": "stdout",
     "output_type": "stream",
     "text": [
      "파싱된 뉴스 본문:\n",
      "\n",
      "제이비어 브런슨 주한미군사령관은 15일(현지시각) 미국이 중국과 러시아의 위협을 상대하는 데 있어서 한국에 지상군을 계속 주둔할 필요가 있다고 강조했다.\n",
      "브런슨 사령관은 이날 하와이에서 열린 미국 육군협회(AUSA) 태평양지상군(LANPAC) 심포지엄에서 광활한 인도태평양 지역에서의 군사 작전을 어렵게 하는 “거리의 횡포”(tyranny of distance)를 극복하는데 있어서 한국에 주둔한 미군이 큰 역할을 한다고 설명했다.\n",
      "그는 한국의 지리적 위치가 전략적으로 중요하다면서 한국이 “베이징과 가장 가까운 동맹의 존재”이자 “일본과 중국 본토 사이에 떠 있는 섬이나 고정된 항공모함 같다”고 했다.\n",
      "그는 “한국에 주둔하는 미군은 북한, 러시아, 중국 지도부의 셈법을 바꾸고, 비용을 부과하며 어느 충돌에서든 우리나라의 가장 고위급 지도자들에게 선택지를 제공한다”고 했다.\n",
      "그러면서 “주한미군은 북한을 격퇴하는 것에만 초점을 맞추지 않는다. 우리는 더 큰 인도태평양 전략의 작은 부분으로서 역내 작전, 활동과 투자에도 초점을 맞추고 있다”고 밝혔다.\n",
      "현지 주한미군사령관이 주한미군의 역할 조정 등 전략적 유연성 필요성과 관련해 공개 표명한 것이어서 주목된다.\n",
      "미국이 주한미군의 활동 범위를 한반도로 국한하지 않고, 중국의 대만 침공 등 동북아시아의 다양한 지정학적 위기에 투입하는 ‘전략적 유연성’을 추구할 것이라는 관측은 트럼프 대통령 재선 성공 때부터 제기돼왔다.\n",
      "그는 한화오션이 최근 미 해군 함정 정비를 끝냈는데 “새것일 때보다 나아 보인다”면서 한국의 생산·제조 시설과 유지·보수·정비(MRO) 역량이 미군이 인도태평양 지역에서 활동하는데 크게 도움될 수 있다고 주장했다.\n",
      "그는 북한이 러시아에 병력을 파견한 대가로 기술 지원을 받는 게 우려된다면서 “북한은 우리가 그들이 하지 못할 것이라고 예상했던 방식으로 그들의 (무기) 프로그램 일부를 발전시키고 있다”고 말했다.\n",
      "이어 “난 북한이 자기들이 가진 핵무기를 현재 가진 항공 수단에 탑재하는 방법을 배울지에 대해 우려하고 있다”면서 “북한은 러시아와의 협력이 없었다면 수년이 걸렸을 도약을 하고 있다”고 평가했다.\n",
      "그는 한미일 3자 군사훈련에 대해서는 “한미일 협력은 관행적으로 해야 하며 그것을 막는 장애물을 치워야 한다”며 “난 우리가 (한반도에) 데려올 수 있는 모든 파트너가 와서 훈련하기를 원한다”고 말했다.\n"
     ]
    }
   ],
   "source": [
    "import requests\n",
    "from bs4 import BeautifulSoup\n",
    "import re\n",
    "\n",
    "\n",
    "# 네이버 뉴스 본문 추출 + 출처/사진 설명 제거\n",
    "def extract_clean_news_body(url: str) -> str:\n",
    "    \n",
    "    headers = {\"User-Agent\": \"Mozilla/5.0\"}\n",
    "    try:\n",
    "        res = requests.get(url, headers=headers, timeout=10)\n",
    "        res.raise_for_status()\n",
    "    except requests.RequestException as e:\n",
    "        return f\" 요청 실패: {e}\"\n",
    "\n",
    "    soup = BeautifulSoup(res.text, \"html.parser\")\n",
    "    article = soup.find(\"article\", id=\"dic_area\")\n",
    "    if not article:\n",
    "        return \" 본문 태그가 없습니다.\"\n",
    "\n",
    "    # 불필요한 태그 제거 (사진설명, 이미지, 기타)\n",
    "    for tag in article.find_all([\"b\", \"em\", \"span\", \"figure\", \"div\", \"img\"]):\n",
    "        tag.decompose()\n",
    "\n",
    "    # 텍스트 추출\n",
    "    raw_text = article.get_text(separator=\"\\n\", strip=True)\n",
    "\n",
    "    # '/출처'와 같은 사진 설명 제거\n",
    "    clean_text = re.sub(r'\\s*/[^\\n]+', '', raw_text)\n",
    "\n",
    "    return clean_text.strip()\n",
    "\n",
    "# 실행\n",
    "if __name__ == \"__main__\":\n",
    "    test_url = \"https://n.news.naver.com/mnews/article/023/0003905529?sid=100\"\n",
    "    news_body = extract_clean_news_body(test_url)\n",
    "\n",
    "    print(\"파싱된 뉴스 본문:\\n\")\n",
    "    print(news_body)"
   ]
  },
  {
   "cell_type": "code",
   "execution_count": null,
   "metadata": {},
   "outputs": [],
   "source": []
  }
 ],
 "metadata": {
  "kernelspec": {
   "display_name": "base",
   "language": "python",
   "name": "python3"
  },
  "language_info": {
   "codemirror_mode": {
    "name": "ipython",
    "version": 3
   },
   "file_extension": ".py",
   "mimetype": "text/x-python",
   "name": "python",
   "nbconvert_exporter": "python",
   "pygments_lexer": "ipython3",
   "version": "3.12.7"
  }
 },
 "nbformat": 4,
 "nbformat_minor": 2
}
